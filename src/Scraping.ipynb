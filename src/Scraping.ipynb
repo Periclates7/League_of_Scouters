{
 "cells": [
  {
   "cell_type": "markdown",
   "id": "dd2c2d8c",
   "metadata": {},
   "source": [
    "# Scraping\n",
    "  \n",
    "En este archivo se aplican las funciones contenidas en los diferentes archivos .py de este repositorio para escrapear todos los datos que requeriremos para realizar el presente proyecto."
   ]
  },
  {
   "cell_type": "code",
   "execution_count": 1,
   "id": "e421f4e2",
   "metadata": {},
   "outputs": [],
   "source": [
    "# Carga de librerías y recursos"
   ]
  },
  {
   "cell_type": "code",
   "execution_count": null,
   "id": "a5a1daaa",
   "metadata": {},
   "outputs": [],
   "source": [
    "import pandas as pd\n",
    "import numpy as np\n",
    "\n",
    "from selenium.webdriver.chrome.options import Options\n",
    "from webdriver_manager.chrome import ChromeDriverManager\n",
    "from selenium import webdriver\n",
    "from selenium.webdriver.common.by import By\n",
    "PATH=ChromeDriverManager().install()"
   ]
  },
  {
   "cell_type": "code",
   "execution_count": null,
   "id": "dd7bed82",
   "metadata": {},
   "outputs": [],
   "source": [
    "# Función que recorre el índice de nuestra página objetivo para obtener todos los url de donde se sacarán los datos"
   ]
  },
  {
   "cell_type": "code",
   "execution_count": null,
   "id": "b65d9d27",
   "metadata": {},
   "outputs": [],
   "source": [
    "def scrapeo_links():\n",
    "    pags = [f'https://www.leagueofgraphs.com/es/rankings/summoners/page-{i}' for i in range(1, 51)]\n",
    "    links_total = []\n",
    "    for url in pags:\n",
    "        \n",
    "        driver=webdriver.Chrome(PATH)               \n",
    "        driver.get(url)\n",
    "        \n",
    "        links_invo = [driver.find_elements(By.TAG_NAME, 'a')[i].get_attribute('href') for i in range(len(driver.find_elements(By.TAG_NAME, 'a')))]\n",
    "        \n",
    "        driver.quit()\n",
    "        \n",
    "        links = links_invo[302:-23]\n",
    "        links_total.append(links)\n",
    "    return links_total"
   ]
  },
  {
   "cell_type": "code",
   "execution_count": null,
   "id": "fb475aa2",
   "metadata": {},
   "outputs": [],
   "source": [
    "links = scrapeo_links()"
   ]
  },
  {
   "cell_type": "code",
   "execution_count": null,
   "id": "a620ae05",
   "metadata": {},
   "outputs": [],
   "source": [
    "# Limpieza de links"
   ]
  },
  {
   "cell_type": "code",
   "execution_count": null,
   "id": "2bcb207b",
   "metadata": {},
   "outputs": [],
   "source": [
    "links_total = []\n",
    "\n",
    "for lst in links:\n",
    "    for link in lst:\n",
    "        if 'summoners' not in link:\n",
    "            links_total.append(link)        "
   ]
  },
  {
   "cell_type": "code",
   "execution_count": null,
   "id": "fd64f13c",
   "metadata": {
    "scrolled": false
   },
   "outputs": [],
   "source": [
    "len(links_total)"
   ]
  },
  {
   "cell_type": "code",
   "execution_count": null,
   "id": "28b7b65a",
   "metadata": {},
   "outputs": [],
   "source": [
    "# Aplicamos un map sobre las diferentes funciones cargadas."
   ]
  },
  {
   "cell_type": "code",
   "execution_count": null,
   "id": "34e8ed0e",
   "metadata": {},
   "outputs": [],
   "source": [
    "import multiprocessing as mp\n",
    "from multiprocessing import get_context\n",
    "from scrapeo_player import *                      \n",
    "                                           \n",
    "pool = mp.Pool(mp.cpu_count())"
   ]
  },
  {
   "cell_type": "code",
   "execution_count": null,
   "id": "6dbc6554",
   "metadata": {},
   "outputs": [],
   "source": [
    "pool.map(scrapeo_player, links_total)"
   ]
  },
  {
   "cell_type": "code",
   "execution_count": null,
   "id": "83968068",
   "metadata": {},
   "outputs": [],
   "source": [
    "import multiprocessing as mp\n",
    "from multiprocessing import get_context\n",
    "from scrapeo_champ import *                      \n",
    "                                           \n",
    "pool = mp.Pool(mp.cpu_count())"
   ]
  },
  {
   "cell_type": "code",
   "execution_count": null,
   "id": "bea775a2",
   "metadata": {},
   "outputs": [],
   "source": [
    "pool.map(scrapeo_champ, links_total[3976:])"
   ]
  },
  {
   "cell_type": "code",
   "execution_count": null,
   "id": "c8e5083c",
   "metadata": {},
   "outputs": [],
   "source": [
    "import multiprocessing as mp\n",
    "from multiprocessing import get_context\n",
    "from scrapeo_rol_kda import *                      \n",
    "                                           \n",
    "pool = mp.Pool(mp.cpu_count())"
   ]
  },
  {
   "cell_type": "code",
   "execution_count": null,
   "id": "5f386a85",
   "metadata": {},
   "outputs": [],
   "source": [
    "pool.map(scrapeo_rol_kda, links_total)"
   ]
  },
  {
   "cell_type": "code",
   "execution_count": null,
   "id": "cd536cc8",
   "metadata": {},
   "outputs": [],
   "source": [
    "# Se obtuvieron de manera manual los urls de los jugadores profesionales con los que queremos \n",
    "# comparar a los rookies"
   ]
  },
  {
   "cell_type": "code",
   "execution_count": null,
   "id": "b7f93574",
   "metadata": {},
   "outputs": [],
   "source": [
    "links_prof = ['https://www.leagueofgraphs.com/es/summoner/kr/Hide+on+bush', 'https://www.leagueofgraphs.com/es/summoner/euw/pleroma+chronou',\n",
    "'https://www.leagueofgraphs.com/es/summoner/euw/BilIy+Butcher1', 'https://www.leagueofgraphs.com/es/summoner/euw/elyoyaaaaaaaaaaa',\n",
    "'https://www.leagueofgraphs.com/es/summoner/na/100T+Bjergsen', 'https://www.leagueofgraphs.com/es/summoner/euw/Kongenvenderhjem',\n",
    "'https://www.leagueofgraphs.com/es/summoner/euw/TH+Krillin', 'https://www.leagueofgraphs.com/es/summoner/euw/Raz%C3%B8rk+Activoo',\n",
    "'https://www.leagueofgraphs.com/es/summoner/euw/Satoru+Gojo03', 'https://www.leagueofgraphs.com/es/summoner/na/TL+Honda+Bwipo',\n",
    "'https://www.leagueofgraphs.com/es/summoner/euw/Grandpa+Alf',\n",
    "'https://www.leagueofgraphs.com/es/summoner/euw/sn%C3%B8w%C6%92all',\n",
    "'https://www.leagueofgraphs.com/es/summoner/euw/Jinno+Kingdom', 'https://www.leagueofgraphs.com/es/summoner/euw/LFT+ADC',\n",
    "'https://www.leagueofgraphs.com/es/summoner/euw/FNC+Hylissang', 'https://www.leagueofgraphs.com/es/summoner/euw/Wesley+Warren+Jr',\n",
    "'https://www.leagueofgraphs.com/es/summoner/na/C9+Zven', 'https://www.leagueofgraphs.com/es/summoner/euw/HAHAHAHHAHA',\n",
    "'https://www.leagueofgraphs.com/es/summoner/na/TL+Honda+CoreJJ', 'https://www.leagueofgraphs.com/es/summoner/na/J%C3%A6nsen',\n",
    "'https://www.leagueofgraphs.com/es/summoner/euw/GOOD+GAME+GG+EZ', 'https://www.leagueofgraphs.com/es/summoner/euw/Armuttt',\n",
    "'https://www.leagueofgraphs.com/es/summoner/euw/zta',\n",
    "'https://www.leagueofgraphs.com/es/summoner/kr/%EC%97%AD%EC%B2%9C%EA%B4%B4',\n",
    "'https://www.leagueofgraphs.com/es/summoner/kr/T1+Gumayusi', 'https://www.leagueofgraphs.com/es/summoner/euw/Kobbe',\n",
    "'https://www.leagueofgraphs.com/es/summoner/kr/ecrrd', 'https://www.leagueofgraphs.com/es/summoner/na/blaberfish2',\n",
    "'https://www.leagueofgraphs.com/es/summoner/kr/%EC%B9%B8+%EB%82%98',\n",
    "'https://www.leagueofgraphs.com/es/summoner/kr/%EC%9E%98%EA%B0%80%EC%9A%94+%EA%B5%BF%EB%B0%94%EC%9D%B4',\n",
    "'https://www.leagueofgraphs.com/es/summoner/na/Vulcan+01', 'https://www.leagueofgraphs.com/es/summoner/euw/BiIIy+Butcher1',\n",
    "'https://www.leagueofgraphs.com/es/summoner/kr/Cuzz', 'https://www.leagueofgraphs.com/es/summoner/euw/dajor25',\n",
    "'https://www.leagueofgraphs.com/es/summoner/na/C9+Fudge',\n",
    "'https://www.leagueofgraphs.com/es/summoner/kr/%ED%98%B8%EC%9E%87%EC%9D%B4',\n",
    "'https://www.leagueofgraphs.com/es/summoner/euw/school+phobia', 'https://www.leagueofgraphs.com/es/summoner/euw/mersa777',\n",
    "'https://www.leagueofgraphs.com/es/summoner/euw/PhutureN%CE%BFize', 'https://www.leagueofgraphs.com/es/summoner/euw/M1dLaoBan',\n",
    "'https://www.leagueofgraphs.com/es/summoner/euw/mmm01', 'https://www.leagueofgraphs.com/es/summoner/na/Tactical',\n",
    "'https://www.leagueofgraphs.com/es/summoner/euw/Targamas', 'https://www.leagueofgraphs.com/es/summoner/euw/Percy+Magic',\n",
    "'https://www.leagueofgraphs.com/es/summoner/euw/I+Love+Uber+Eats', 'https://www.leagueofgraphs.com/es/summoner/euw/Th3Antonio',\n",
    "'https://www.leagueofgraphs.com/es/summoner/euw/Maxlore', 'https://www.leagueofgraphs.com/es/summoner/euw/Disabled+Chattt',\n",
    "'https://www.leagueofgraphs.com/es/summoner/euw/Stend', 'https://www.leagueofgraphs.com/es/summoner/kr/Just+Again',\n",
    "'https://www.leagueofgraphs.com/es/summoner/kr/2891447839056992', 'https://www.leagueofgraphs.com/es/summoner/euw/Boukada',\n",
    "'https://www.leagueofgraphs.com/es/summoner/euw/XAKY',\n",
    "'https://www.leagueofgraphs.com/es/summoner/kr/%EC%98%A4%EB%A6%AC%EC%A7%80%EB%84%90%EC%B0%B0%EB%96%A1%EC%BF',\n",
    "'https://www.leagueofgraphs.com/es/summoner/euw/boiat+nastana', 'https://www.leagueofgraphs.com/es/summoner/euw/Rob%C3%ADnh00D',\n",
    "'https://www.leagueofgraphs.com/es/summoner/euw/F%CE%99GHT', 'https://www.leagueofgraphs.com/es/summoner/euw/Hatrixx',\n",
    "'https://www.leagueofgraphs.com/es/summoner/euw/Kaytraa+is+bae', 'https://www.leagueofgraphs.com/es/summoner/euw/bluerzor',\n",
    "'https://www.leagueofgraphs.com/es/summoner/euw/KC+Leona', 'https://www.leagueofgraphs.com/es/summoner/euw/Beanovich',\n",
    "'https://www.leagueofgraphs.com/es/summoner/euw/Zaunite+Mylo']"
   ]
  },
  {
   "cell_type": "code",
   "execution_count": null,
   "id": "4e443e48",
   "metadata": {},
   "outputs": [],
   "source": [
    "# Volvemos a aplicar las funciones sobre los nuevos links."
   ]
  },
  {
   "cell_type": "code",
   "execution_count": null,
   "id": "274e9568",
   "metadata": {},
   "outputs": [],
   "source": [
    "import multiprocessing as mp\n",
    "from multiprocessing import get_context\n",
    "from scrapeo_player_prof import *                      \n",
    "                                           \n",
    "pool = mp.Pool(mp.cpu_count())"
   ]
  },
  {
   "cell_type": "code",
   "execution_count": null,
   "id": "10581233",
   "metadata": {},
   "outputs": [],
   "source": [
    "pool.map(scrapeo_player, links_prof)"
   ]
  },
  {
   "cell_type": "code",
   "execution_count": null,
   "id": "60e304e4",
   "metadata": {},
   "outputs": [],
   "source": [
    "import multiprocessing as mp\n",
    "from multiprocessing import get_context\n",
    "from scrapeo_champ_prof import *                      \n",
    "                                           \n",
    "pool = mp.Pool(mp.cpu_count())"
   ]
  },
  {
   "cell_type": "code",
   "execution_count": null,
   "id": "285b5ce8",
   "metadata": {},
   "outputs": [],
   "source": [
    "pool.map(scrapeo_champ, links_prof)"
   ]
  },
  {
   "cell_type": "code",
   "execution_count": null,
   "id": "902ecc4c",
   "metadata": {},
   "outputs": [],
   "source": [
    "import multiprocessing as mp\n",
    "from multiprocessing import get_context\n",
    "from scrapeo_rol_kda_prof import *                      \n",
    "                                           \n",
    "pool = mp.Pool(mp.cpu_count())"
   ]
  },
  {
   "cell_type": "code",
   "execution_count": null,
   "id": "a425108e",
   "metadata": {},
   "outputs": [],
   "source": [
    "pool.map(scrapeo_rol_kda, links_prof)"
   ]
  },
  {
   "cell_type": "code",
   "execution_count": null,
   "id": "1ff86108",
   "metadata": {},
   "outputs": [],
   "source": []
  }
 ],
 "metadata": {
  "kernelspec": {
   "display_name": "Python 3 (ipykernel)",
   "language": "python",
   "name": "python3"
  },
  "language_info": {
   "codemirror_mode": {
    "name": "ipython",
    "version": 3
   },
   "file_extension": ".py",
   "mimetype": "text/x-python",
   "name": "python",
   "nbconvert_exporter": "python",
   "pygments_lexer": "ipython3",
   "version": "3.9.13"
  }
 },
 "nbformat": 4,
 "nbformat_minor": 5
}
